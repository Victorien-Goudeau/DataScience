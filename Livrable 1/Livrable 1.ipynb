{
 "cells": [
  {
   "cell_type": "markdown",
   "metadata": {},
   "source": [
    "# Livrable 1 : Classification Binaire\n",
    "|Erwan Martin|Thibaut Liger-Hellard|Arnaud Maturel|Guillaume Le Cocguen|Victorien Goudeau|\n",
    "|------------|---------------------|--------------|--------------------|-----------------|\n",
    "\n",
    "**Contexte**:\n",
    "L'objectif de ce livrable est classifier les photos des \"non-photos\" parmis les images du dataset.\n",
    "La classification sera donc binaire.\n",
    "\n",
    "# Préparation des données\n",
    "Afin de faire la classification binaire des images, nous allons labelliser nos données. Pour ne pas avoir à charger toutes nos images, nos données \n"
   ]
  },
  {
   "cell_type": "code",
   "execution_count": null,
   "metadata": {},
   "outputs": [],
   "source": []
  }
 ],
 "metadata": {
  "language_info": {
   "name": "python"
  }
 },
 "nbformat": 4,
 "nbformat_minor": 2
}
