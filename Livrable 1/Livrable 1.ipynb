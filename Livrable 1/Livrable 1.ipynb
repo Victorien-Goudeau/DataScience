{
 "cells": [
  {
   "cell_type": "markdown",
   "metadata": {},
   "source": [
    "# Livrable 1 : Classification Binaire\n",
    "|Erwan Martin|Thibaut Liger-Hellard|Arnaud Maturel|Guillaume Le Cocguen|Victorien Goudeau|\n",
    "|------------|---------------------|--------------|--------------------|-----------------|\n",
    "\n",
    "**Contexte**:\n",
    "L'objectif de ce livrable est classifier les photos des \"non-photos\" parmis les images du dataset.\n",
    "La classification sera donc binaire.\n",
    "\n",
    "\n",
    "# import des librairies"
   ]
  },
  {
   "cell_type": "code",
   "execution_count": 17,
   "metadata": {},
   "outputs": [],
   "source": [
    "import pandas as pd\n",
    "import numpy as np\n",
    "import matplotlib.pyplot as plt\n",
    "\n",
    "import os\n",
    "\n",
    "import tensorflow as tf\n",
    "import tensorboard\n"
   ]
  },
  {
   "cell_type": "code",
   "execution_count": 2,
   "metadata": {},
   "outputs": [
    {
     "name": "stdout",
     "output_type": "stream",
     "text": [
      "GPUs Available:  [PhysicalDevice(name='/physical_device:GPU:0', device_type='GPU')]\n"
     ]
    }
   ],
   "source": [
    "#verify GPU available (not mendatory)\n",
    "print(\"GPUs Available: \", tf.config.list_physical_devices('GPU'))"
   ]
  },
  {
   "cell_type": "markdown",
   "metadata": {},
   "source": [
    "# Préparation des données\n",
    "Afin de faire la classification binaire des images il va falloir préparer nos données en étiquettant nos images et en les mettant a la même échelle (scaling)."
   ]
  },
  {
   "cell_type": "code",
   "execution_count": 74,
   "metadata": {},
   "outputs": [
    {
     "name": "stdout",
     "output_type": "stream",
     "text": [
      "D:\\CESI\\A5\\datascience\\Projet\\data\n"
     ]
    }
   ],
   "source": [
    "#data path definition\n",
    "f = open('../data/path.txt', \"r\")\n",
    "DATAPATH = f.read()\n",
    "print(DATAPATH)"
   ]
  },
  {
   "cell_type": "code",
   "execution_count": 91,
   "metadata": {},
   "outputs": [
    {
     "name": "stdout",
     "output_type": "stream",
     "text": [
      "LABELS : ['Painting', 'Photo', 'Schematics', 'Sketch', 'Text']\n"
     ]
    }
   ],
   "source": [
    "# dataset creation\n",
    "labels = []\n",
    "imgs = []\n",
    "\n",
    "#creating labels table -----------------------------\n",
    "for i in os.listdir(path=DATAPATH):\n",
    "    if os.path.isdir(DATAPATH+\"/\"+i):\n",
    "        labels.append(i)\n",
    "#end creating labels table -----------------------------\n",
    "\n",
    "#removing livrable2  from dataset------------------------\n",
    "labels.remove(\"Dataset_L2\")\n",
    "labels.remove(\"Photo_2\")\n",
    "#end removing livrable2 from dataset------------------------\n",
    "\n",
    "\n",
    "print(f\"LABELS : {labels}\")\n",
    "\n",
    "#create BIG csv with image path + label\n",
    "csv = open(\"../data/dataset_L1.csv\", \"w\")\n",
    "csv.write(\"pathname;label\\n\")\n",
    "for label in labels:\n",
    "    if label == \"Photo\":\n",
    "        l = 1\n",
    "    else:\n",
    "        l=0\n",
    "    for img in os.listdir(path=DATAPATH+\"/\"+label):\n",
    "        csv.write(DATAPATH+\"/\"+label+\"/\"+img+\";\"+str(l)+\"\\n\")\n",
    "csv.close()"
   ]
  }
 ],
 "metadata": {
  "kernelspec": {
   "display_name": "tensorflow",
   "language": "python",
   "name": "python3"
  },
  "language_info": {
   "codemirror_mode": {
    "name": "ipython",
    "version": 3
   },
   "file_extension": ".py",
   "mimetype": "text/x-python",
   "name": "python",
   "nbconvert_exporter": "python",
   "pygments_lexer": "ipython3",
   "version": "3.9.19"
  }
 },
 "nbformat": 4,
 "nbformat_minor": 2
}
