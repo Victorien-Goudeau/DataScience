{
 "cells": [
  {
   "cell_type": "markdown",
   "metadata": {
    "collapsed": false
   },
   "source": [
    "# Livrable 1 : Classification Binaire\n",
    "|Erwan Martin|Thibaut Liger-Hellard|Arnaud Maturel|Guillaume Le Cocguen|Victorien Goudeau|\n",
    "|------------|---------------------|--------------|--------------------|-----------------|\n",
    "\n",
    "# **Contexte**:\n",
    "L'entreprise TouNum, spécialisée dans la numérisation de documents, collabore avec des spécialistes en Data Science de CESI pour développer une solution de Machine Learning capable de générer automatiquement des légendes pour les images numérisées. Ce projet vise à enrichir leur offre de services en répondant aux besoins de clients ayant d'importantes quantités de données à classer. Le défi inclut le nettoyage des images de qualité variable et la distinction entre photos et autres types d'images avant l'analyse. L'approche utilisera des technologies avancées telles que les réseaux de neurones convolutifs (CNN) et récurrents (RNN), en s'appuyant sur Python et des librairies spécialisées. Un prototype est attendu dans cinq semaines, suivi d'une présentation détaillée et d'une discussion sur l'intégration et la maintenance de la solution."
   ]
  },
  {
   "cell_type": "markdown",
   "metadata": {
    "collapsed": false
   },
   "source": [
    "# **Objectif**:\n",
    "\n",
    "L'objectif de ce projet est de développer un modèle de classification binaire capable de distinguer les images de photos des autres types d'images. Le modèle sera entraîné sur un jeu de données étiqueté et évalué sur un jeu de données de test distinct. Les performances du modèle seront mesurées en termes de précision, de rappel et de F1-score. Le modèle final sera évalué sur un ensemble de données non étiqueté pour tester sa capacité à généraliser à de nouvelles images.\n",
    "\n",
    "# **Données**:\n",
    "\n",
    "Notre jeu de données contient plusieurs milliers d'images de différentes tailles et qualités. Ces images ne sont pas étiquetées, mais les images étant bien archivées, nous allons pouvoir les étiquetter manuellement.\n",
    "\n",
    "# **Défis techniques**:\n",
    "\n",
    "- Étiquettage des données: Les images ne sont pas étiquetées, il faudra donc le faire manuellement pour entraîner le modèle.\n",
    "\n",
    "- Qualité des images: Les images sont de qualité variable, ce qui peut affecter les performances du modèle.\n",
    "\n",
    "- Modèle de classification: Le modèle doit être capable de distinguer les images de photos des autres types d'images avec une précision élevée. Il faudra peut-être expérimenter avec différents types de modèles pour obtenir les meilleures performances.\n",
    "\n",
    "- Évaluation du modèle: Le modèle sera évalué sur un ensemble de données de test distinct pour mesurer sa précision, son rappel et son F1-score. Il sera également évalué sur un ensemble de données non étiqueté pour tester sa capacité à généraliser à de nouvelles images.\n"
   ]
  },
  {
   "cell_type": "markdown",
   "metadata": {
    "collapsed": false
   },
   "source": [
    "# **Preprocessing**\n",
    "\n",
    "Afin de répondre au besoin de la société TouNum, nous allons dans un premier temps traiter les images, c'est à dire avoir une phase de `preprocessing` pour les rendre exploitables par notre modèle. Nous utiliserons de nombreuses bibliothèques python comme `tensorflow`, `scikit-learn` et `pandas`."
   ]
  },
  {
   "cell_type": "code",
   "execution_count": 1,
   "metadata": {
    "is_executing": true
   },
   "outputs": [],
   "source": [
    "import pandas as pd\n",
    "import numpy as np\n",
    "import matplotlib.pyplot as plt\n",
    "import PIL\n",
    "import os\n",
    "import sklearn\n",
    "import sklearn.model_selection\n",
    "import tensorflow as tf\n",
    "import tensorboard\n",
    "\n",
    "from datetime import datetime\n"
   ]
  },
  {
   "cell_type": "code",
   "execution_count": 2,
   "metadata": {},
   "outputs": [
    {
     "name": "stdout",
     "output_type": "stream",
     "text": [
      "1 Physical GPUs, 1 Logical GPUs\n"
     ]
    }
   ],
   "source": [
    "#Setting gpu for limit memory\n",
    "gpus = tf.config.experimental.list_physical_devices('GPU')\n",
    "if gpus:\n",
    "    #Restrict Tensorflow to only allocate 6gb of memory on the first GPU\n",
    "   try:\n",
    "        tf.config.experimental.set_virtual_device_configuration(gpus[0],\n",
    "       [tf.config.experimental.VirtualDeviceConfiguration(memory_limit=9144)])\n",
    "        logical_gpus = tf.config.experimental.list_logical_devices('GPU')\n",
    "        print(len(gpus), \"Physical GPUs,\", len(logical_gpus), \"Logical GPUs\")\n",
    "   except RuntimeError as e:\n",
    "       #virtual devices must be set before GPUs have been initialized\n",
    "        print(e)"
   ]
  },
  {
   "cell_type": "markdown",
   "metadata": {},
   "source": [
    "### Récupération du chemin des images"
   ]
  },
  {
   "cell_type": "code",
   "execution_count": 3,
   "metadata": {},
   "outputs": [
    {
     "name": "stdout",
     "output_type": "stream",
     "text": [
      "D:\\CESI\\A5\\datascience\\Projet\\data\n"
     ]
    }
   ],
   "source": [
    "filePath = open('../data/path.txt', \"r\")\n",
    "datapath = filePath.read()\n",
    "print(datapath)"
   ]
  },
  {
   "cell_type": "code",
   "execution_count": 4,
   "metadata": {
    "collapsed": false
   },
   "outputs": [],
   "source": [
    "labels = []\n",
    "imgs = []\n",
    "target_label = 'Photo'\n",
    "labels_to_remove = [\"Dataset_L2\", \"Photo_2\"]\n",
    "csv_filepath = \"../data/dataset_L1.csv\""
   ]
  },
  {
   "cell_type": "markdown",
   "metadata": {
    "collapsed": false
   },
   "source": [
    "### Récupération des différents labels\n",
    "\n",
    "Comme mentionné précédemment, les images ne sont pas étiquetées. Nous allons donc devoir le faire manuellement grâce à l'archivage des images, plus précisément le nom des dossiers dans lesquels elles sont stockées. Nous allons donc récupérer tous les labels possibles en fonction des noms de dossier."
   ]
  },
  {
   "cell_type": "code",
   "execution_count": 5,
   "metadata": {
    "collapsed": false
   },
   "outputs": [
    {
     "name": "stdout",
     "output_type": "stream",
     "text": [
      "LABELS : ['Painting', 'Photo', 'Schematics', 'Sketch', 'Text']\n"
     ]
    }
   ],
   "source": [
    "def create_labels_list(datapath, labels_to_remove=None):\n",
    "    for i in os.listdir(path=datapath):\n",
    "        if os.path.isdir(os.path.join(datapath, i)):\n",
    "            labels.append(i)\n",
    "\n",
    "    if labels_to_remove:\n",
    "        for label in labels_to_remove:\n",
    "            try:\n",
    "                labels.remove(label)\n",
    "            except ValueError:\n",
    "                pass\n",
    "\n",
    "    return labels\n",
    "\n",
    "labels = create_labels_list(datapath, labels_to_remove)\n",
    "print(f\"LABELS : {labels}\")"
   ]
  },
  {
   "cell_type": "code",
   "execution_count": 6,
   "metadata": {
    "collapsed": false
   },
   "outputs": [],
   "source": [
    "def create_dataset_csv(datapath, csv_filepath, target_label=\"Photo\"):\n",
    "    with open(csv_filepath, \"w\", encoding=\"utf-8\") as csv:\n",
    "        csv.write(\"pathname;label\\n\")\n",
    "\n",
    "        for label in labels:\n",
    "            if os.path.isdir(os.path.join(datapath, label)):\n",
    "                l = 1 if label == target_label else 0\n",
    "\n",
    "                for img in os.listdir(os.path.join(datapath, label)):\n",
    "                    if not(\".ini\" in img):\n",
    "                        csv.write(f\"{os.path.join(datapath, label, img)};{l}\\n\")\n",
    "\n",
    "create_dataset_csv(datapath, csv_filepath)"
   ]
  },
  {
   "cell_type": "markdown",
   "metadata": {},
   "source": [
    "maintenant, il faut le load dans un pandas, regardons ce que ca donne:"
   ]
  },
  {
   "cell_type": "code",
   "execution_count": 7,
   "metadata": {},
   "outputs": [
    {
     "data": {
      "text/html": [
       "<div>\n",
       "<style scoped>\n",
       "    .dataframe tbody tr th:only-of-type {\n",
       "        vertical-align: middle;\n",
       "    }\n",
       "\n",
       "    .dataframe tbody tr th {\n",
       "        vertical-align: top;\n",
       "    }\n",
       "\n",
       "    .dataframe thead th {\n",
       "        text-align: right;\n",
       "    }\n",
       "</style>\n",
       "<table border=\"1\" class=\"dataframe\">\n",
       "  <thead>\n",
       "    <tr style=\"text-align: right;\">\n",
       "      <th></th>\n",
       "      <th>pathname</th>\n",
       "      <th>label</th>\n",
       "    </tr>\n",
       "  </thead>\n",
       "  <tbody>\n",
       "    <tr>\n",
       "      <th>0</th>\n",
       "      <td>D:\\CESI\\A5\\datascience\\Projet\\data\\Painting\\pa...</td>\n",
       "      <td>0</td>\n",
       "    </tr>\n",
       "    <tr>\n",
       "      <th>1</th>\n",
       "      <td>D:\\CESI\\A5\\datascience\\Projet\\data\\Painting\\pa...</td>\n",
       "      <td>0</td>\n",
       "    </tr>\n",
       "    <tr>\n",
       "      <th>2</th>\n",
       "      <td>D:\\CESI\\A5\\datascience\\Projet\\data\\Painting\\pa...</td>\n",
       "      <td>0</td>\n",
       "    </tr>\n",
       "    <tr>\n",
       "      <th>3</th>\n",
       "      <td>D:\\CESI\\A5\\datascience\\Projet\\data\\Painting\\pa...</td>\n",
       "      <td>0</td>\n",
       "    </tr>\n",
       "    <tr>\n",
       "      <th>4</th>\n",
       "      <td>D:\\CESI\\A5\\datascience\\Projet\\data\\Painting\\pa...</td>\n",
       "      <td>0</td>\n",
       "    </tr>\n",
       "  </tbody>\n",
       "</table>\n",
       "</div>"
      ],
      "text/plain": [
       "                                            pathname  label\n",
       "0  D:\\CESI\\A5\\datascience\\Projet\\data\\Painting\\pa...      0\n",
       "1  D:\\CESI\\A5\\datascience\\Projet\\data\\Painting\\pa...      0\n",
       "2  D:\\CESI\\A5\\datascience\\Projet\\data\\Painting\\pa...      0\n",
       "3  D:\\CESI\\A5\\datascience\\Projet\\data\\Painting\\pa...      0\n",
       "4  D:\\CESI\\A5\\datascience\\Projet\\data\\Painting\\pa...      0"
      ]
     },
     "execution_count": 7,
     "metadata": {},
     "output_type": "execute_result"
    }
   ],
   "source": [
    "data = pd.read_csv(csv_filepath, sep=';')\n",
    "data.head()"
   ]
  },
  {
   "cell_type": "code",
   "execution_count": 8,
   "metadata": {
    "collapsed": false
   },
   "outputs": [],
   "source": [
    "image_height, image_width = 400, 400\n",
    "test_size = 0.3\n",
    "batch_size = 32"
   ]
  },
  {
   "cell_type": "code",
   "execution_count": 9,
   "metadata": {},
   "outputs": [],
   "source": [
    "from sklearn.model_selection import train_test_split\n",
    "# Séparation des données en ensembles d'entraînement et de test\n",
    "train_df, test_df = train_test_split(data, test_size=test_size, random_state=42)"
   ]
  },
  {
   "cell_type": "code",
   "execution_count": 10,
   "metadata": {
    "collapsed": false
   },
   "outputs": [],
   "source": [
    "def load_image(path):\n",
    "    try:\n",
    "        image = tf.io.read_file(path)\n",
    "        image = tf.image.decode_jpeg(image, channels=3)\n",
    "        image = tf.image.resize(image, [image_height, image_width])\n",
    "        return image\n",
    "    except tf.errors.InvalidArgumentError:\n",
    "        print(f\"Attention : le fichier {path} n'est pas une image valide et sera ignoré.\")\n",
    "        return None\n"
   ]
  },
  {
   "cell_type": "code",
   "execution_count": 11,
   "metadata": {},
   "outputs": [],
   "source": [
    "class ImageGenerator(tf.keras.utils.Sequence):\n",
    "    def __init__(self, image_paths, labels, batch_size):\n",
    "        self.image_paths = image_paths\n",
    "        self.labels = labels\n",
    "        self.batch_size = batch_size\n",
    "\n",
    "    def __len__(self):\n",
    "        return len(self.image_paths) // self.batch_size\n",
    "\n",
    "    def __getitem__(self, index):\n",
    "        batch_paths = self.image_paths[index * self.batch_size : (index + 1) * self.batch_size]\n",
    "        batch_labels = self.labels[index * self.batch_size : (index + 1) * self.batch_size]\n",
    "        \n",
    "        batch_images = []\n",
    "        valid_labels = []\n",
    "        for path, label in zip(batch_paths, batch_labels):\n",
    "            img = self.load_image(path)\n",
    "            if img is not None:\n",
    "                batch_images.append(img)\n",
    "                valid_labels.append(label)\n",
    "        \n",
    "        return tf.convert_to_tensor(batch_images), tf.convert_to_tensor(valid_labels)\n",
    "\n",
    "    def load_image(self, path):\n",
    "        try:\n",
    "            image = tf.io.read_file(path)\n",
    "            image = tf.image.decode_jpeg(image, channels=3)\n",
    "            image = tf.image.resize(image, [image_height, image_width])\n",
    "            return image\n",
    "        except tf.errors.InvalidArgumentError:\n",
    "            print(f\" \\n Attention : le fichier {path} n'est pas une image valide et sera ignoré.\")\n",
    "            return None\n"
   ]
  },
  {
   "cell_type": "code",
   "execution_count": 12,
   "metadata": {},
   "outputs": [],
   "source": [
    "\n",
    "\n",
    "# Création des générateurs pour les ensembles d'entraînement et de test\n",
    "train_generator = ImageGenerator(train_df['pathname'].tolist(), train_df['label'].tolist(), batch_size)\n",
    "test_generator = ImageGenerator(test_df['pathname'].tolist(), test_df['label'].tolist(), batch_size)"
   ]
  },
  {
   "cell_type": "markdown",
   "metadata": {},
   "source": [
    "# Setting Callbacks"
   ]
  },
  {
   "cell_type": "code",
   "execution_count": 13,
   "metadata": {},
   "outputs": [],
   "source": [
    "class EarlyStoppingAtMinLoss(tf.keras.callbacks.Callback):\n",
    "    \"\"\"Stop training when the loss is at its min, i.e. the loss stops decreasing.\n",
    "\n",
    "    Arguments:\n",
    "        patience: Number of epochs to wait after min has been hit. After this\n",
    "        number of no improvement, training stops.\n",
    "    \"\"\"\n",
    "\n",
    "    def __init__(self, patience=0):\n",
    "        super().__init__()\n",
    "        self.patience = patience\n",
    "        # best_weights to store the weights at which the minimum loss occurs.\n",
    "        self.best_weights = None\n",
    "\n",
    "    def on_train_begin(self, logs=None):\n",
    "        # The number of epoch it has waited when loss is no longer minimum.\n",
    "        self.wait = 0\n",
    "        # The epoch the training stops at.\n",
    "        self.stopped_epoch = 0\n",
    "        # Initialize the best as infinity.\n",
    "        self.best = np.Inf\n",
    "\n",
    "    def on_epoch_end(self, epoch, logs=None):\n",
    "        current = logs.get(\"val_loss\")\n",
    "        print(\"The average loss for epoch {} is {:7.2f} \".format(epoch, logs[\"loss\"])) #print the loss\n",
    "\n",
    "        if np.less(current, self.best):\n",
    "            self.best = current\n",
    "            self.wait = 0\n",
    "            # Record the best weights if current results is better (less).\n",
    "            self.best_weights = self.model.get_weights()\n",
    "        else:\n",
    "            self.wait += 1\n",
    "            if self.wait >= self.patience:\n",
    "                self.stopped_epoch = epoch\n",
    "                self.model.stop_training = True\n",
    "                print(\"Restoring model weights from the end of the best epoch.\")\n",
    "                self.model.set_weights(self.best_weights)\n",
    "\n",
    "    def on_train_end(self, logs=None):\n",
    "        if self.stopped_epoch > 0:\n",
    "            print(\"Epoch %05d: early stopping\" % (self.stopped_epoch + 1))\n",
    "\n",
    "\n",
    "#TENSORBOARD\n",
    "time = datetime.now()\n",
    "foldername = f\"./tensorboard/{time.day}_{time.month}_{time.year}_{time.hour}h{time.minute}\"\n",
    "\n",
    "tensorflowCallback = tf.keras.callbacks.TensorBoard(\n",
    "    log_dir=foldername,\n",
    "    histogram_freq=0,\n",
    "    write_graph=True,\n",
    "    write_images=False,\n",
    "    write_steps_per_second=False,\n",
    "    update_freq='epoch',\n",
    "    profile_batch=0,\n",
    "    embeddings_freq=0,\n",
    "    embeddings_metadata=None\n",
    ")"
   ]
  },
  {
   "cell_type": "code",
   "execution_count": 14,
   "metadata": {},
   "outputs": [],
   "source": [
    "# Construction du modèle\n",
    "model = tf.keras.Sequential([\n",
    "    tf.keras.layers.Rescaling(1./255),\n",
    "    tf.keras.layers.Conv2D(32, (5, 5), activation='relu', input_shape=(image_height, image_width, 3)),\n",
    "    tf.keras.layers.MaxPooling2D(2, 2),\n",
    "    tf.keras.layers.Conv2D(64, (3, 3), activation='relu'),\n",
    "    tf.keras.layers.MaxPooling2D(2, 2),\n",
    "    tf.keras.layers.Flatten(),\n",
    "    tf.keras.layers.Dense(128, activation='relu'),\n",
    "    tf.keras.layers.Dense(len(data['label'].unique()), activation='softmax')  # Assurez-vous que cela correspond au nombre de classes\n",
    "])\n",
    "\n",
    "model.compile(optimizer='adam',\n",
    "              loss=tf.keras.losses.SparseCategoricalCrossentropy(from_logits=True),\n",
    "              metrics=['accuracy'])"
   ]
  },
  {
   "cell_type": "code",
   "execution_count": 15,
   "metadata": {},
   "outputs": [
    {
     "name": "stdout",
     "output_type": "stream",
     "text": [
      "Epoch 1/10\n",
      "520/905 [================>.............] - ETA: 2:30 - loss: 0.6016 - accuracy: 0.8225 \n",
      " Attention : le fichier D:\\CESI\\A5\\datascience\\Projet\\data\\Painting\\painting_02662.jpg n'est pas une image valide et sera ignoré.\n",
      "905/905 [==============================] - ETA: 0s - loss: 0.4732 - accuracy: 0.8390The average loss for epoch 0 is    0.47 \n",
      "905/905 [==============================] - 506s 557ms/step - loss: 0.4732 - accuracy: 0.8390 - val_loss: 0.2652 - val_accuracy: 0.8785\n",
      "Epoch 2/10\n",
      "155/905 [====>.........................] - ETA: 4:54 - loss: 0.2271 - accuracy: 0.9022 \n",
      " Attention : le fichier D:\\CESI\\A5\\datascience\\Projet\\data\\Painting\\painting_02662.jpg n'est pas une image valide et sera ignoré.\n",
      "905/905 [==============================] - ETA: 0s - loss: 0.2053 - accuracy: 0.9151The average loss for epoch 1 is    0.21 \n",
      "Restoring model weights from the end of the best epoch.\n",
      "905/905 [==============================] - 497s 549ms/step - loss: 0.2053 - accuracy: 0.9151 - val_loss: 0.3367 - val_accuracy: 0.8611\n",
      "Epoch 00002: early stopping\n"
     ]
    },
    {
     "data": {
      "text/plain": [
       "<keras.callbacks.History at 0x12db2493940>"
      ]
     },
     "execution_count": 15,
     "metadata": {},
     "output_type": "execute_result"
    }
   ],
   "source": [
    "# Entraînement du modèle\n",
    "model.fit(train_generator, validation_data=test_generator, epochs=10, callbacks=[tensorflowCallback, EarlyStoppingAtMinLoss(patience=1)])"
   ]
  },
  {
   "cell_type": "code",
   "execution_count": 12,
   "metadata": {
    "collapsed": false
   },
   "outputs": [],
   "source": [
    "def prepare_dataset(data, img_width, img_height, batch_size=100, test_size=0.3, shuffle=True, random_state=22):\n",
    "    train_df, test_df = sklearn.model_selection.train_test_split(data, test_size=test_size, shuffle=shuffle, random_state=random_state)\n",
    "\n",
    "    train_set = tf.data.Dataset.from_tensor_slices((train_df[\"pathname\"].values, train_df[\"label\"].values))\n",
    "    train_set = train_set.map(lambda img_path, label: load_and_preprocess_image(img_path, label, img_width, img_height))\n",
    "    train_set = train_set.batch(batch_size)\n",
    "\n",
    "    test_set = tf.data.Dataset.from_tensor_slices((test_df[\"pathname\"].values, test_df[\"label\"].values))\n",
    "    test_set = test_set.map(lambda img_path, label: load_and_preprocess_image(img_path, label, img_width, img_height))\n",
    "    test_set = test_set.batch(batch_size)\n",
    "\n",
    "    return train_set, test_set"
   ]
  },
  {
   "cell_type": "code",
   "execution_count": 13,
   "metadata": {},
   "outputs": [],
   "source": [
    "train_set, test_set = prepare_dataset(data, image_width, image_height, batch_size, test_size)"
   ]
  },
  {
   "cell_type": "code",
   "execution_count": 14,
   "metadata": {},
   "outputs": [
    {
     "data": {
      "image/png": "[encoded data removed]",
      "text/plain": [
       "<Figure size 440x500 with 4 Axes>"
      ]
     },
     "metadata": {},
     "output_type": "display_data"
    }
   ],
   "source": [
    "def display_images(dataset, num_images=9):\n",
    "    plt.figure(figsize=(num_images * 1.1, 5))\n",
    "    \n",
    "    for images, labels in dataset.take(1):\n",
    "        for i in range(num_images):\n",
    "            ax = plt.subplot(1, num_images, i + 1)\n",
    "            plt.imshow(images[i].numpy().astype(\"uint8\"))\n",
    "            plt.axis(\"off\")\n",
    "\n",
    "display_images(train_set, num_images=4)"
   ]
  },
  {
   "cell_type": "code",
   "execution_count": 15,
   "metadata": {},
   "outputs": [],
   "source": [
    "AUTOTUNE = tf.data.experimental.AUTOTUNE\n",
    "\n",
    "train_set = train_set.cache().prefetch(buffer_size=AUTOTUNE)\n",
    "test_set = test_set.cache().prefetch(buffer_size=AUTOTUNE)"
   ]
  },
  {
   "cell_type": "code",
   "execution_count": 16,
   "metadata": {},
   "outputs": [
    {
     "name": "stdout",
     "output_type": "stream",
     "text": [
      "Model: \"sequential\"\n",
      "_________________________________________________________________\n",
      " Layer (type)                Output Shape              Param #   \n",
      "=================================================================\n",
      " rescaling (Rescaling)       (None, 400, 400, 3)       0         \n",
      "                                                                 \n",
      " conv2d (Conv2D)             (None, 400, 400, 15)      1140      \n",
      "                                                                 \n",
      " max_pooling2d (MaxPooling2D  (None, 200, 200, 15)     0         \n",
      " )                                                               \n",
      "                                                                 \n",
      " conv2d_1 (Conv2D)           (None, 200, 200, 30)      4080      \n",
      "                                                                 \n",
      " max_pooling2d_1 (MaxPooling  (None, 100, 100, 30)     0         \n",
      " 2D)                                                             \n",
      "                                                                 \n",
      " flatten (Flatten)           (None, 300000)            0         \n",
      "                                                                 \n",
      " dense (Dense)               (None, 128)               38400128  \n",
      "                                                                 \n",
      " dense_1 (Dense)             (None, 64)                8256      \n",
      "                                                                 \n",
      " dense_2 (Dense)             (None, 2)                 130       \n",
      "                                                                 \n",
      "=================================================================\n",
      "Total params: 38,413,734\n",
      "Trainable params: 38,413,734\n",
      "Non-trainable params: 0\n",
      "_________________________________________________________________\n"
     ]
    }
   ],
   "source": [
    "num_classes = 2 # Nombre de classes et donc aussi nombre de neurones dans la dernière couche\n",
    "\n",
    "model = tf.keras.Sequential([\n",
    "    tf.keras.layers.Rescaling(1./255),\n",
    "    tf.keras.layers.Conv2D(15, (5,5), activation='relu', padding=\"same\"),\n",
    "    tf.keras.layers.MaxPooling2D(2,2),\n",
    "    tf.keras.layers.Conv2D(30, (3,3), activation='relu', padding=\"same\"),\n",
    "    tf.keras.layers.MaxPooling2D(2,2),\n",
    "    tf.keras.layers.Flatten(),\n",
    "    tf.keras.layers.Dense(128, activation='relu'),\n",
    "    tf.keras.layers.Dense(64, activation='relu'),\n",
    "    tf.keras.layers.Dense(num_classes)  # Plus de softmax ici\n",
    "])\n",
    "\n",
    "model.compile(optimizer='adam',\n",
    "              loss=tf.keras.losses.SparseCategoricalCrossentropy(from_logits=True),\n",
    "              metrics=['accuracy'])\n",
    "\n",
    "\n",
    "\n",
    "model.build((None, image_height, image_width, 3))\n",
    "\n",
    "model.summary()"
   ]
  },
  {
   "cell_type": "code",
   "execution_count": 17,
   "metadata": {},
   "outputs": [
    {
     "name": "stdout",
     "output_type": "stream",
     "text": [
      "Epoch 1/10\n",
      "1603/5821 [=======>......................] - ETA: 2:44 - loss: 0.3949 - accuracy: 0.7881"
     ]
    },
    {
     "ename": "",
     "evalue": "",
     "output_type": "error",
     "traceback": [
      "\u001b[1;31mThe Kernel crashed while executing code in the current cell or a previous cell. \n",
      "\u001b[1;31mPlease review the code in the cell(s) to identify a possible cause of the failure. \n",
      "\u001b[1;31mClick <a href='https://aka.ms/vscodeJupyterKernelCrash'>here</a> for more info. \n",
      "\u001b[1;31mView Jupyter <a href='command:jupyter.viewOutput'>log</a> for further details."
     ]
    }
   ],
   "source": [
    "epochs=10\n",
    "tf.get_logger().setLevel('INFO')\n",
    "history =  model.fit(train_set, validation_data=test_set, epochs=epochs)\n",
    "\n",
    "# acc = history.history['accuracy']\n",
    "# val_acc = history.history['val_accuracy']\n",
    "\n",
    "# loss = history.history['loss']\n",
    "# val_loss = history.history['val_loss']\n",
    "\n",
    "# epochs_range = range(epochs)\n",
    "\n",
    "# plt.figure(figsize=(16, 8))\n",
    "# plt.subplot(1, 2, 1)\n",
    "# plt.plot(epochs_range, acc, label='Training Accuracy')\n",
    "# plt.plot(epochs_range, val_acc, label='Validation Accuracy')\n",
    "# plt.legend(loc='lower right')\n",
    "# plt.title('Training and Validation Accuracy')\n",
    "\n",
    "# plt.subplot(1, 2, 2)\n",
    "# plt.plot(epochs_range, loss, label='Training Loss')\n",
    "# plt.plot(epochs_range, val_loss, label='Validation Loss')\n",
    "# plt.legend(loc='upper right')\n",
    "# plt.title('Training and Validation Loss')\n",
    "# plt.show()"
   ]
  }
 ],
 "metadata": {
  "kernelspec": {
   "display_name": "tensorflow",
   "language": "python",
   "name": "python3"
  },
  "language_info": {
   "codemirror_mode": {
    "name": "ipython",
    "version": 3
   },
   "file_extension": ".py",
   "mimetype": "text/x-python",
   "name": "python",
   "nbconvert_exporter": "python",
   "pygments_lexer": "ipython3",
   "version": "3.9.19"
  }
 },
 "nbformat": 4,
 "nbformat_minor": 2
}
